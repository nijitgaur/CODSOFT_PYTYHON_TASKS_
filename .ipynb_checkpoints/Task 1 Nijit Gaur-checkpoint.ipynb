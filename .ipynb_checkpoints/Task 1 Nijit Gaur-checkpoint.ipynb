{
 "cells": [
  {
   "cell_type": "code",
   "execution_count": null,
   "id": "cd5c102d-dde6-44ab-a710-2b74c128f0aa",
   "metadata": {},
   "outputs": [
    {
     "name": "stdout",
     "output_type": "stream",
     "text": [
      "Choose rock, paper, or scissors:\n"
     ]
    },
    {
     "name": "stdin",
     "output_type": "stream",
     "text": [
      " rock\n"
     ]
    },
    {
     "name": "stdout",
     "output_type": "stream",
     "text": [
      "You chose rock, the computer chose scissors.\n",
      "You win!\n",
      "Score: You: 1, Computer: 0\n",
      "Do you want to play again? (yes/no)\n"
     ]
    },
    {
     "name": "stdin",
     "output_type": "stream",
     "text": [
      " yes\n"
     ]
    },
    {
     "name": "stdout",
     "output_type": "stream",
     "text": [
      "Choose rock, paper, or scissors:\n"
     ]
    },
    {
     "name": "stdin",
     "output_type": "stream",
     "text": [
      " paper\n"
     ]
    },
    {
     "name": "stdout",
     "output_type": "stream",
     "text": [
      "You chose paper, the computer chose paper.\n",
      "It's a tie!\n",
      "Score: You: 1, Computer: 0\n",
      "Do you want to play again? (yes/no)\n"
     ]
    },
    {
     "name": "stdin",
     "output_type": "stream",
     "text": [
      " yes\n"
     ]
    },
    {
     "name": "stdout",
     "output_type": "stream",
     "text": [
      "Choose rock, paper, or scissors:\n"
     ]
    },
    {
     "name": "stdin",
     "output_type": "stream",
     "text": [
      " scissors\n"
     ]
    },
    {
     "name": "stdout",
     "output_type": "stream",
     "text": [
      "You chose scissors, the computer chose rock.\n",
      "You lose!\n",
      "Score: You: 1, Computer: 1\n",
      "Do you want to play again? (yes/no)\n"
     ]
    },
    {
     "name": "stdin",
     "output_type": "stream",
     "text": [
      " yes\n"
     ]
    },
    {
     "name": "stdout",
     "output_type": "stream",
     "text": [
      "Choose rock, paper, or scissors:\n"
     ]
    },
    {
     "name": "stdin",
     "output_type": "stream",
     "text": [
      " rock\n"
     ]
    },
    {
     "name": "stdout",
     "output_type": "stream",
     "text": [
      "You chose rock, the computer chose scissors.\n",
      "You win!\n",
      "Score: You: 2, Computer: 1\n",
      "Do you want to play again? (yes/no)\n"
     ]
    },
    {
     "name": "stdin",
     "output_type": "stream",
     "text": [
      " yes\n"
     ]
    },
    {
     "name": "stdout",
     "output_type": "stream",
     "text": [
      "Choose rock, paper, or scissors:\n"
     ]
    },
    {
     "name": "stdin",
     "output_type": "stream",
     "text": [
      " rock\n"
     ]
    },
    {
     "name": "stdout",
     "output_type": "stream",
     "text": [
      "You chose rock, the computer chose scissors.\n",
      "You win!\n",
      "Score: You: 3, Computer: 1\n",
      "Do you want to play again? (yes/no)\n"
     ]
    }
   ],
   "source": [
    "##We will start by importinmg random module .\n",
    "import random\n",
    "#FUNCTION IS  USED TO GET THE USER CHOICE(ROCK,PAPER OR SCISSORS)\n",
    "def get_user_choice():\n",
    "    print(\"Choose rock, paper, or scissors:\")\n",
    "    user_choice = input().lower()\n",
    "    while user_choice not in ['rock', 'paper', 'scissors']:\n",
    "        print(\"Invalid choice. Please choose rock, paper, or scissors:\")\n",
    "        user_choice = input().lower()\n",
    "    return user_choice\n",
    "    \n",
    "#FUNCTION IS USED TO RANDOMLY GENERATE COMPUTER CHOICE.\n",
    "def get_computer_choice():\n",
    "    choices = ['rock', 'paper', 'scissors']\n",
    "    return random.choice(choices)\n",
    "#FUNCTION IS USED TO TAKE THE USER CHOICE AND THE COMPUTER CHOICE AS ARGUMENT AND DETERMINE THE WINNER ON THE BASIS OF RULES OF ROCK,PAPER AND SCISSORS.\n",
    "def determine_winner(user_choice, computer_choice):\n",
    "    if user_choice == computer_choice:\n",
    "        return \"It's a tie!\"\n",
    "    elif (user_choice == 'rock' and computer_choice == 'scissors') or \\\n",
    "         (user_choice == 'paper' and computer_choice == 'rock') or \\\n",
    "         (user_choice == 'scissors' and computer_choice == 'paper'):\n",
    "        return \"You win!\"\n",
    "    else:\n",
    "        return \"You lose!\"\n",
    "#FUNCTION IS USED TO ASKED THE USER IF HE WANTS TOI PLAY AGAIN.\n",
    "def play_again():\n",
    "    print(\"Do you want to play again? (yes/no)\")\n",
    "    return input().lower() == 'yes'\n",
    "#THIS IS THE MAIN FUNCTION THAT ORCHESTRATES THE ENTIRE GAME.\n",
    "def main():\n",
    "    score_user = 0\n",
    "    score_computer = 0\n",
    "\n",
    "    while True:\n",
    "        user_choice = get_user_choice()\n",
    "        computer_choice = get_computer_choice()\n",
    "\n",
    "        print(f\"You chose {user_choice}, the computer chose {computer_choice}.\")\n",
    "        result = determine_winner(user_choice, computer_choice)\n",
    "        print(result)\n",
    "\n",
    "        if result == \"You win!\":\n",
    "            score_user += 1\n",
    "        elif result == \"You lose!\":\n",
    "            score_computer += 1\n",
    "\n",
    "        print(f\"Score: You: {score_user}, Computer: {score_computer}\")\n",
    "\n",
    "        if not play_again():\n",
    "            break\n",
    "\n",
    "if __name__ == \"__main__\":\n",
    "    main()"
   ]
  },
  {
   "cell_type": "code",
   "execution_count": null,
   "id": "b6ce9063-b8b9-4bdb-8d89-4725c0c047a5",
   "metadata": {},
   "outputs": [],
   "source": []
  }
 ],
 "metadata": {
  "kernelspec": {
   "display_name": "Python 3 (ipykernel)",
   "language": "python",
   "name": "python3"
  },
  "language_info": {
   "codemirror_mode": {
    "name": "ipython",
    "version": 3
   },
   "file_extension": ".py",
   "mimetype": "text/x-python",
   "name": "python",
   "nbconvert_exporter": "python",
   "pygments_lexer": "ipython3",
   "version": "3.11.4"
  }
 },
 "nbformat": 4,
 "nbformat_minor": 5
}
